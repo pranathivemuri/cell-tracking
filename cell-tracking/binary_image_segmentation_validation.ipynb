{
 "cells": [
  {
   "cell_type": "markdown",
   "metadata": {},
   "source": [
    "# Grayscale Image Segmentation And Validation"
   ]
  },
  {
   "cell_type": "code",
   "execution_count": null,
   "metadata": {},
   "outputs": [],
   "source": [
    "This notebook "
   ]
  },
  {
   "cell_type": "code",
   "execution_count": 1,
   "metadata": {},
   "outputs": [],
   "source": [
    "import matplotlib.pyplot as plt\n",
    "\n",
    "import cv2\n",
    "import natsort\n",
    "import numpy as np\n",
    "import os\n",
    "import glob\n",
    "import pandas as pd\n",
    "import sys\n",
    "import trackpy as tp\n",
    "import scipy.misc\n",
    "import scipy.ndimage\n",
    "import sklearn.metrics\n",
    "\n",
    "plt.ion()"
   ]
  },
  {
   "cell_type": "code",
   "execution_count": null,
   "metadata": {},
   "outputs": [],
   "source": []
  },
  {
   "cell_type": "markdown",
   "metadata": {},
   "source": [
    "1. Martin Maška, Vladimír Ulman, David Svoboda, Pavel Matula, Petr Matula, Cristina Ederra, Ainhoa Urbiola, Tomás España, Subramanian Venkatesan, Deepak M.W. Balak, Pavel Karas, Tereza Bolcková, Markéta Štreitová, Craig Carthel, Stefano Coraluppi, Nathalie Harder, Karl Rohr, Klas E. G. Magnusson, Joakim Jaldén, Helen M. Blau, Oleh Dzyubachyk, Pavel Křížek, Guy M. Hagen, David Pastor-Escuredo, Daniel Jimenez-Carretero, Maria J. Ledesma-Carbayo, Arrate Muñoz-Barrutia, Erik Meijering, Michal Kozubek, Carlos Ortiz-de-Solorzano; A benchmark for comparison of cell tracking algorithms, Bioinformatics, Volume 30, Issue 11, 1 June 2014, Pages 1609–1617, https://doi.org/10.1093/bioinformatics/btu080\n",
    "2. Ulman, Vladimír & Maška, Martin & E G Magnusson, Klas & Ronneberger, Olaf & Haubold, Carsten & Harder, Nathalie & Matula, Pavel & Matula, Petr & Svoboda, David & Radojevic, Miroslav & Smal, Ihor & Rohr, Karl & Jaldén, Joakim & Blau, Helen & Dzyubachyk, Oleh & Lelieveldt, Boudewijn & Xiao, Pengdong & Li, Yuexiang & Cho, Siu-Yeung & Ortiz-de-Solorzano, Carlos. (2017). An Objective Comparison of Cell Tracking Algorithms. Nature Methods. 14. 10.1038/nmeth.4473. \n"
   ]
  },
  {
   "cell_type": "code",
   "execution_count": 3,
   "metadata": {},
   "outputs": [
    {
     "name": "stdout",
     "output_type": "stream",
     "text": [
      "number of grayscale images are 48\n",
      "number of images manually segmented are 18\n",
      "number of images manually tracked are 48\n",
      "obtained 18 number of grayscale images that are manually segmented\n"
     ]
    }
   ],
   "source": [
    "DATA_DIR = os.path.join(os.getcwd(), \"data\")\n",
    "GRAYSCALE_DIR = os.path.join(DATA_DIR,\"grayscale\") + os.sep\n",
    "GROUNDTRUTH_SEGMENTED_DIR = os.path.join(DATA_DIR, \"groundtruth_segmentation\") + os.sep\n",
    "GROUNDTRUTH_TRACKING_DIR = os.path.join(DATA_DIR, \"groundtruth_tracking\") + os.sep\n",
    "LI_THRESHOLDED_DIR = os.path.join(DATA_DIR, \"li_thresholded\") + os.sep\n",
    "YEN_THRESHOLDED_DIR = os.path.join(DATA_DIR, \"yen_thresholded\") + os.sep\n",
    "OTSU_THRESHOLDED_DIR = os.path.join(DATA_DIR, \"otsu_thresholded\") + os.sep\n",
    "CONFUSION_MATRIX_MASK_DIR = os.path.join(DATA_DIR, \"confusion_matrix\") + os.sep\n",
    "\n",
    "GRAYSCALE_IMAGES = natsort.natsorted(glob.glob(GRAYSCALE_DIR + \"*.tif\"))\n",
    "GROUNDTRUTH_SEGMENTED_IMAGES = natsort.natsorted(glob.glob(GROUNDTRUTH_SEGMENTED_DIR + \"*.tif\"))\n",
    "GROUNDTRUTH_TRACKING_IMAGES = natsort.natsorted(glob.glob(GROUNDTRUTH_TRACKING_DIR + \"*.tif\"))\n",
    "\n",
    "print(\"number of grayscale images are {}\".format(len(GRAYSCALE_IMAGES)))\n",
    "print(\"number of images manually segmented are {}\".format(len(GROUNDTRUTH_SEGMENTED_IMAGES)))\n",
    "print(\"number of images manually tracked are {}\".format(len(GROUNDTRUTH_TRACKING_IMAGES)))\n",
    "      \n",
    "# Not all images are manually segmented, collect the subset of grayscale images that are manually segmented\n",
    "data_files = []\n",
    "for data in GRAYSCALE_IMAGES:\n",
    "    for groundtruth in GROUNDTRUTH_SEGMENTED_IMAGES:\n",
    "        if os.path.basename(groundtruth) == os.path.basename(data):\n",
    "            data_files.append(data)\n",
    "\n",
    "print(\"obtained {} number of grayscale images that are manually segmented\".format(len(data_files)))\n",
    "\n",
    "# To generate a video/gif from images in a folder/directory using ffmpeg run\n",
    "# ffmpeg -framerate 5 -pattern_type glob -i '*.png' -c:v libx264 -pix_fmt yuv420p out.mp4"
   ]
  },
  {
   "cell_type": "markdown",
   "metadata": {},
   "source": [
    "SCALING TO UINT8"
   ]
  },
  {
   "cell_type": "code",
   "execution_count": 4,
   "metadata": {},
   "outputs": [],
   "source": [
    "def convert_to_uint8(image):\n",
    "    pmin, pmax = np.percentile(image, (0, 100))\n",
    "    clipped_image = np.clip(image, pmin, pmax)\n",
    "    clipped_image = (clipped_image - pmin) / (pmax - pmin)\n",
    "    clipped_image = (255 * clipped_image).astype(np.uint8)\n",
    "    return clipped_image"
   ]
  },
  {
   "cell_type": "markdown",
   "metadata": {},
   "source": [
    "# SEGMENTATION/THRESHOLDING USING SKIMAGE "
   ]
  },
  {
   "cell_type": "code",
   "execution_count": 125,
   "metadata": {},
   "outputs": [
    {
     "name": "stderr",
     "output_type": "stream",
     "text": [
      "/home/pranathi/.local/lib/python3.5/site-packages/ipykernel_launcher.py:1: DeprecationWarning: `imread` is deprecated!\n",
      "`imread` is deprecated in SciPy 1.0.0, and will be removed in 1.2.0.\n",
      "Use ``imageio.imread`` instead.\n",
      "  \"\"\"Entry point for launching an IPython kernel.\n"
     ]
    },
    {
     "name": "stdout",
     "output_type": "stream",
     "text": [
      "skimage.filters.thresholding.threshold_otsu\n",
      "skimage.filters.thresholding.threshold_yen\n",
      "skimage.filters.thresholding.threshold_triangle\n",
      "skimage.filters.thresholding.threshold_isodata\n",
      "skimage.filters.thresholding.threshold_li\n",
      "skimage.filters.thresholding.threshold_mean\n",
      "skimage.filters.thresholding.threshold_minimum\n"
     ]
    },
    {
     "data": {
      "image/png": "[encoded data removed]",
      "text/plain": [
       "<Figure size 576x360 with 8 Axes>"
      ]
     },
     "metadata": {
      "needs_background": "light"
     },
     "output_type": "display_data"
    }
   ],
   "source": [
    "image = convert_to_uint8(scipy.misc.imread(data_files[0]))\n",
    "image = scipy.ndimage.median_filter(image)\n",
    "result = skimage.filters.thresholding.try_all_threshold(image)"
   ]
  },
  {
   "cell_type": "markdown",
   "metadata": {},
   "source": [
    "1. Otsu threshold - The algorithm assumes that the image contains two classes of pixels following bi-modal histogram (foreground pixels and background pixels), it then calculates the optimum threshold separating the two classes so that their combined spread (intra-class variance) is minimal, or equivalently (because the sum of pairwise squared distances is constant), so that their inter-class variance is maximal"
   ]
  },
  {
   "cell_type": "code",
   "execution_count": 5,
   "metadata": {},
   "outputs": [],
   "source": [
    "def segment_im(im, method):\n",
    "    \"\"\"\n",
    "    Return a binary image with 0's and 255's after using threshold calculated by using the given \"method\"\n",
    "    \"\"\"\n",
    "    return np.uint8(im > method(im)) * 255"
   ]
  },
  {
   "cell_type": "markdown",
   "metadata": {},
   "source": [
    "# Validation metrics"
   ]
  },
  {
   "cell_type": "markdown",
   "metadata": {},
   "source": [
    "Takeaway - Matthew Correlation Coefficient -https://lettier.github.io/posts/2016-08-05-matthews-correlation-coefficient.html"
   ]
  },
  {
   "cell_type": "code",
   "execution_count": 15,
   "metadata": {},
   "outputs": [],
   "source": [
    "def get_validation_metrics(groundtruth, predicted):\n",
    "    \"\"\"\n",
    "    Return validation metrics dictionary with accuracy, f1 score, mcc after\n",
    "    comparing ground truth and predicted image\n",
    "\n",
    "    :param groundtruth list of ground truth labels with binary values\n",
    "    :param predicted list of predicted labels with binary values\n",
    "    :return returns a dictionary with accuracy,f1 score, tp, tn, fp, fn, and mcc as keys\n",
    "    \"\"\"\n",
    "    tn, fp, fn, tp = sklearn.metrics.confusion_matrix(groundtruth, predicted).ravel()\n",
    "    validation_metrics = {}\n",
    "\n",
    "    validation_metrics[\"tp\"] = tp\n",
    "    validation_metrics[\"fp\"] = fp\n",
    "    validation_metrics[\"fn\"] = fn\n",
    "    validation_metrics[\"tn\"] = tn\n",
    "    total = tp + fp + fn + tn\n",
    "    accuracy = (tp + tn) / total\n",
    "    validation_metrics[\"accuracy\"] = accuracy\n",
    "    # If all elements are non zero class\n",
    "    if np.unique(groundtruth).tolist() == np.unique(predicted).tolist() == [1]:\n",
    "        tn, fp, fn, tp = 0, 0, 0, len(groundtruth)\n",
    "        f1_score = 1\n",
    "    # if all elements are zero class i.e background\n",
    "    elif np.unique(groundtruth).tolist() == np.unique(predicted).tolist() == [0]:\n",
    "        tn, fp, fn, tp = len(groundtruth), 0, 0, 0\n",
    "        f1_score = 1\n",
    "    else:\n",
    "        tn, fp, fn, tp = sklearn.metrics.confusion_matrix(groundtruth, predicted).ravel()\n",
    "        f1_score = 2 * tp / ((2 * tp) + fp + fn)\n",
    "    \n",
    "    validation_metrics[\"f1_score\"] = f1_score\n",
    "    \n",
    "    tn = np.float64(tn)\n",
    "    fp = np.float64(fp)\n",
    "    fn = np.float64(fn)\n",
    "    tp = np.float64(tp)\n",
    "    \n",
    "    # edge cases\n",
    "    if (tp == 0 and fp == 0):\n",
    "        mcc = 0\n",
    "    elif (tn == 0 and fn == 0):\n",
    "        mcc = 0\n",
    "    elif (fp == 0 and fn == 0):\n",
    "        mcc = 1\n",
    "    elif (tp == 0 and tn == 0):\n",
    "        mcc = -1\n",
    "    elif (tp == 0 and fn == 0):\n",
    "        mcc = 0\n",
    "    elif (tn == 0 and fp == 0):\n",
    "        mcc = 0\n",
    "    else:\n",
    "        mcc = ((tp * tn) - (fp * fn)) / (np.sqrt((tp + fp) * (tp + fn) * (tn + fp) * (tn + fn)))\n",
    "           \n",
    "    validation_metrics[\"mcc\"] = mcc\n",
    "    return validation_metrics"
   ]
  },
  {
   "cell_type": "markdown",
   "metadata": {},
   "source": [
    "Get validation metrics comparing 1.li and ground truth 2. otsu threshold  and ground truth "
   ]
  },
  {
   "cell_type": "code",
   "execution_count": null,
   "metadata": {},
   "outputs": [],
   "source": [
    "grayscale = imread(image)\n",
    "plt.imsshow(grayscale, cmap='gray')"
   ]
  },
  {
   "cell_type": "code",
   "execution_count": null,
   "metadata": {},
   "outputs": [],
   "source": [
    "median_filtered = scipy.ndimage.median_filtered(grayscale)\n",
    "plt.imshow(median_filtered, cmap='gray')"
   ]
  },
  {
   "cell_type": "code",
   "execution_count": null,
   "metadata": {},
   "outputs": [],
   "source": [
    "predicted = segment_im(median_filtered, skimage.filters.threshold_otsu)\n",
    "plt.imshow(predicted, cmap='gray')"
   ]
  },
  {
   "cell_type": "code",
   "execution_count": null,
   "metadata": {},
   "outputs": [],
   "source": [
    "validation_metrics = get_validation_metrics(groundtruth, predicted)\n",
    "print(validation_metrics)"
   ]
  },
  {
   "cell_type": "code",
   "execution_count": null,
   "metadata": {},
   "outputs": [],
   "source": []
  }
 ],
 "metadata": {
  "kernelspec": {
   "display_name": "Python 3",
   "language": "python",
   "name": "python3"
  },
  "language_info": {
   "codemirror_mode": {
    "name": "ipython",
    "version": 3
   },
   "file_extension": ".py",
   "mimetype": "text/x-python",
   "name": "python",
   "nbconvert_exporter": "python",
   "pygments_lexer": "ipython3",
   "version": "3.5.2"
  }
 },
 "nbformat": 4,
 "nbformat_minor": 2
}
