{
 "cells": [
  {
   "cell_type": "code",
   "execution_count": 1,
   "metadata": {},
   "outputs": [],
   "source": [
    "import matplotlib.pyplot as plt\n",
    "\n",
    "import cv2\n",
    "import natsort\n",
    "import numpy as np\n",
    "import os\n",
    "import glob\n",
    "import pandas as pd\n",
    "import sys\n",
    "import scipy.misc\n",
    "import skimage.filters\n",
    "import sklearn.metrics\n",
    "import warnings; warnings.simplefilter('ignore')\n",
    "\n",
    "import matplotlib as mpl\n",
    "mpl.rc('figure',  figsize=(15, 15))\n",
    "plt.ion()"
   ]
  },
  {
   "cell_type": "code",
   "execution_count": 2,
   "metadata": {},
   "outputs": [
    {
     "name": "stdout",
     "output_type": "stream",
     "text": [
      "number of grayscale images are 139\n",
      "number of images manually segmented are 139\n"
     ]
    }
   ],
   "source": [
    "DATA_DIR = \"/home/pranathi/Volumes/MicroscopyData/imaging_group/ucsf_microglia\"\n",
    "GRAYSCALE_DIR = os.path.join(DATA_DIR,\"UCSF-2018-05-04-00-00-00-0001\") + os.sep\n",
    "GROUNDTRUTH_SEGMENTED_DIR = os.path.join(DATA_DIR, \"UCSF-2018-05-04-00-00-00-0001_Annotated_Contours_Filled\") + os.sep\n",
    "FORMAT = \"png\"\n",
    "\n",
    "GRAYSCALE_IMAGES = natsort.natsorted(glob.glob(GRAYSCALE_DIR + \"*.\" + FORMAT))\n",
    "GROUNDTRUTH_SEGMENTED_IMAGES = natsort.natsorted(glob.glob(GROUNDTRUTH_SEGMENTED_DIR + \"*.\" + FORMAT))\n",
    "\n",
    "print(\"number of grayscale images are {}\".format(len(GRAYSCALE_IMAGES)))\n",
    "print(\"number of images manually segmented are {}\".format(len(GROUNDTRUTH_SEGMENTED_IMAGES)))\n",
    "\n",
    "# To generate a video/gif from images in a folder/directory using ffmpeg run\n",
    "# ffmpeg -framerate 5 -pattern_type glob -i '*.png' -c:v libx264 -pix_fmt yuv420p out.mp4"
   ]
  },
  {
   "cell_type": "code",
   "execution_count": null,
   "metadata": {},
   "outputs": [],
   "source": []
  }
 ],
 "metadata": {
  "kernelspec": {
   "display_name": "Python 3",
   "language": "python",
   "name": "python3"
  },
  "language_info": {
   "codemirror_mode": {
    "name": "ipython",
    "version": 3
   },
   "file_extension": ".py",
   "mimetype": "text/x-python",
   "name": "python",
   "nbconvert_exporter": "python",
   "pygments_lexer": "ipython3",
   "version": "3.5.2"
  }
 },
 "nbformat": 4,
 "nbformat_minor": 2
}
